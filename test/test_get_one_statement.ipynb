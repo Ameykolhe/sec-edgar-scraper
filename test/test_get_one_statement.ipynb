{
 "cells": [
  {
   "cell_type": "code",
   "execution_count": 1,
   "outputs": [],
   "source": [
    "from io import StringIO\n",
    "\n",
    "import pandas as pd\n",
    "import requests\n",
    "from bs4 import BeautifulSoup"
   ],
   "metadata": {
    "collapsed": false,
    "ExecuteTime": {
     "end_time": "2024-04-05T00:50:41.467308Z",
     "start_time": "2024-04-05T00:50:41.151717Z"
    }
   },
   "id": "1a3c915cfbe44b3b"
  },
  {
   "cell_type": "code",
   "execution_count": 2,
   "id": "initial_id",
   "metadata": {
    "collapsed": true,
    "ExecuteTime": {
     "end_time": "2024-04-05T00:50:41.919728Z",
     "start_time": "2024-04-05T00:50:41.912526Z"
    }
   },
   "outputs": [],
   "source": [
    "from sec_edgar_scraper import SecEdgarScraper"
   ]
  },
  {
   "cell_type": "code",
   "execution_count": 3,
   "outputs": [],
   "source": [
    "name = \"Amey\"\n",
    "email = \"kolheamey99@gmail.com\"\n",
    "\n",
    "headers = {\n",
    "    \"User-Agent\": f\"{name} {email}\"\n",
    "}\n",
    "\n",
    "#https://www.sec.gov/Archives/edgar/data/1045810/000104581024000029/R9.htm\n",
    "# init scraper object\n",
    "sec_scraper = SecEdgarScraper(name, email)"
   ],
   "metadata": {
    "collapsed": false,
    "ExecuteTime": {
     "end_time": "2024-04-05T00:50:42.348694Z",
     "start_time": "2024-04-05T00:50:42.342218Z"
    }
   },
   "id": "427e362a6755d5d"
  },
  {
   "cell_type": "code",
   "execution_count": 4,
   "outputs": [],
   "source": [
    "ticker = \"tsla\"\n",
    "cik = sec_scraper.get_cik_matching_ticker(ticker)\n",
    "accession_number = \"000095017023033872\""
   ],
   "metadata": {
    "collapsed": false,
    "ExecuteTime": {
     "end_time": "2024-04-05T00:50:42.890364Z",
     "start_time": "2024-04-05T00:50:42.722444Z"
    }
   },
   "id": "d972025c2c898c75"
  },
  {
   "cell_type": "code",
   "execution_count": 5,
   "outputs": [
    {
     "name": "stderr",
     "output_type": "stream",
     "text": [
      "INFO:root:Statement Link - https://www.sec.gov/Archives/edgar/data/0001318605/000095017023033872/R6.htm\n"
     ]
    }
   ],
   "source": [
    "soup = sec_scraper.get_statement_soup(cik, accession_number, \"income_statement\")\n",
    "\n",
    "table = soup.find(\"table\")"
   ],
   "metadata": {
    "collapsed": false,
    "ExecuteTime": {
     "end_time": "2024-04-05T00:51:02.999342Z",
     "start_time": "2024-04-05T00:50:46.774797Z"
    }
   },
   "id": "74204560d00e111b"
  },
  {
   "cell_type": "code",
   "execution_count": 6,
   "outputs": [
    {
     "data": {
      "text/plain": "  Consolidated Statements of Comprehensive Income (Unaudited) - USD ($)  $ in Millions  \\\n  Consolidated Statements of Comprehensive Income (Unaudited) - USD ($)  $ in Millions   \n0       Statement of Comprehensive Income [Abstract]                                     \n1                                         Net income                                     \n2                 Other comprehensive income (loss):                                     \n3            Foreign currency translation adjustment                                     \n4          Unrealized net (loss) gain on investments                                     \n5  Adjustment for net loss realized and included ...                                     \n6                               Comprehensive income                                     \n7  Less: Comprehensive (loss) income attributable...                                     \n8  Comprehensive income attributable to common st...                                     \n\n  3 Months Ended               6 Months Ended                \n   Jun. 30, 2023 Jun. 30, 2022  Jun. 30, 2023 Jun. 30, 2022  \n0            NaN           NaN            NaN           NaN  \n1        $ 2,614       $ 2,269        $ 5,153       $ 5,549  \n2            NaN           NaN            NaN           NaN  \n3          (184)         (421)           (54)         (517)  \n4            (5)           (6)              1          (14)  \n5              4             0              4             0  \n6           2429          1842           5104          5018  \n7           (89)            10           (63)          (28)  \n8        $ 2,518       $ 1,832        $ 5,167       $ 5,046  ",
      "text/html": "<div>\n<style scoped>\n    .dataframe tbody tr th:only-of-type {\n        vertical-align: middle;\n    }\n\n    .dataframe tbody tr th {\n        vertical-align: top;\n    }\n\n    .dataframe thead tr th {\n        text-align: left;\n    }\n</style>\n<table border=\"1\" class=\"dataframe\">\n  <thead>\n    <tr>\n      <th></th>\n      <th>Consolidated Statements of Comprehensive Income (Unaudited) - USD ($)  $ in Millions</th>\n      <th colspan=\"2\" halign=\"left\">3 Months Ended</th>\n      <th colspan=\"2\" halign=\"left\">6 Months Ended</th>\n    </tr>\n    <tr>\n      <th></th>\n      <th>Consolidated Statements of Comprehensive Income (Unaudited) - USD ($)  $ in Millions</th>\n      <th>Jun. 30, 2023</th>\n      <th>Jun. 30, 2022</th>\n      <th>Jun. 30, 2023</th>\n      <th>Jun. 30, 2022</th>\n    </tr>\n  </thead>\n  <tbody>\n    <tr>\n      <th>0</th>\n      <td>Statement of Comprehensive Income [Abstract]</td>\n      <td>NaN</td>\n      <td>NaN</td>\n      <td>NaN</td>\n      <td>NaN</td>\n    </tr>\n    <tr>\n      <th>1</th>\n      <td>Net income</td>\n      <td>$ 2,614</td>\n      <td>$ 2,269</td>\n      <td>$ 5,153</td>\n      <td>$ 5,549</td>\n    </tr>\n    <tr>\n      <th>2</th>\n      <td>Other comprehensive income (loss):</td>\n      <td>NaN</td>\n      <td>NaN</td>\n      <td>NaN</td>\n      <td>NaN</td>\n    </tr>\n    <tr>\n      <th>3</th>\n      <td>Foreign currency translation adjustment</td>\n      <td>(184)</td>\n      <td>(421)</td>\n      <td>(54)</td>\n      <td>(517)</td>\n    </tr>\n    <tr>\n      <th>4</th>\n      <td>Unrealized net (loss) gain on investments</td>\n      <td>(5)</td>\n      <td>(6)</td>\n      <td>1</td>\n      <td>(14)</td>\n    </tr>\n    <tr>\n      <th>5</th>\n      <td>Adjustment for net loss realized and included ...</td>\n      <td>4</td>\n      <td>0</td>\n      <td>4</td>\n      <td>0</td>\n    </tr>\n    <tr>\n      <th>6</th>\n      <td>Comprehensive income</td>\n      <td>2429</td>\n      <td>1842</td>\n      <td>5104</td>\n      <td>5018</td>\n    </tr>\n    <tr>\n      <th>7</th>\n      <td>Less: Comprehensive (loss) income attributable...</td>\n      <td>(89)</td>\n      <td>10</td>\n      <td>(63)</td>\n      <td>(28)</td>\n    </tr>\n    <tr>\n      <th>8</th>\n      <td>Comprehensive income attributable to common st...</td>\n      <td>$ 2,518</td>\n      <td>$ 1,832</td>\n      <td>$ 5,167</td>\n      <td>$ 5,046</td>\n    </tr>\n  </tbody>\n</table>\n</div>"
     },
     "execution_count": 6,
     "metadata": {},
     "output_type": "execute_result"
    }
   ],
   "source": [
    "df1 = pd.read_html(StringIO(str(table)))[0]\n",
    "\n",
    "df1"
   ],
   "metadata": {
    "collapsed": false,
    "ExecuteTime": {
     "end_time": "2024-04-05T00:51:13.705575Z",
     "start_time": "2024-04-05T00:51:13.690296Z"
    }
   },
   "id": "17c73a76a800fd"
  },
  {
   "cell_type": "code",
   "execution_count": null,
   "outputs": [],
   "source": [
    "resp2 = requests.get(\"https://www.sec.gov/Archives/edgar/data/1045810/000104581024000029/R9.htm\", headers=headers)\n",
    "soup2 = BeautifulSoup(resp2.content, \"lxml\")\n",
    "\n",
    "table2 = soup2.find(\"table\")"
   ],
   "metadata": {
    "collapsed": false
   },
   "id": "9798d9d1e07986ef"
  },
  {
   "cell_type": "code",
   "execution_count": null,
   "outputs": [],
   "source": [
    "df2 = pd.read_html(StringIO(str(table2)))[0]\n",
    "\n",
    "df2"
   ],
   "metadata": {
    "collapsed": false
   },
   "id": "8e2a8001a4252526"
  },
  {
   "cell_type": "code",
   "execution_count": null,
   "outputs": [],
   "source": [
    "resp3 = requests.get(\"https://www.sec.gov/Archives/edgar/data/1045810/000104581024000029/R9.htm\", headers=headers)\n",
    "soup3 = BeautifulSoup(resp3.content, \"lxml\")\n",
    "\n",
    "table3 = soup3.find(\"table\")"
   ],
   "metadata": {
    "collapsed": false
   },
   "id": "cbdd93e1af092fde"
  },
  {
   "cell_type": "code",
   "execution_count": null,
   "outputs": [],
   "source": [
    "df3 = pd.read_html(StringIO(str(table3)))[0]\n",
    "\n",
    "df3"
   ],
   "metadata": {
    "collapsed": false
   },
   "id": "102ea4fdbab0f533"
  },
  {
   "cell_type": "markdown",
   "source": [
    "# Checking dict structure for different accession_numbers"
   ],
   "metadata": {
    "collapsed": false
   },
   "id": "af95283869a3885a"
  },
  {
   "cell_type": "markdown",
   "source": [
    "## Ticker = nvda"
   ],
   "metadata": {
    "collapsed": false
   },
   "id": "7f28b16c49f23565"
  },
  {
   "cell_type": "code",
   "execution_count": null,
   "outputs": [],
   "source": [
    "cik = sec_scraper.get_cik_matching_ticker(\"nvda\")\n",
    "\n",
    "accession_numbers = sec_scraper.get_filtered_filings(cik, \"10-Q\")\n",
    "\n",
    "\n",
    "for accession_number in accession_numbers:\n",
    "    print(accession_number)\n",
    "    soup4 = sec_scraper.get_statement_soup(cik, accession_number, \"balance_sheet\")\n",
    "    table4 = soup4.find(\"table\")\n",
    "    df4 = pd.read_html(StringIO(str(table4)))[0]\n",
    "    \n",
    "    df4_dict = df4.to_dict()\n",
    "    for key,value in df4_dict.items():\n",
    "        print(key, value, sep=\"\\n\", end=\"\\n\\n\")"
   ],
   "metadata": {
    "collapsed": false
   },
   "id": "399d9893c1e7b923"
  },
  {
   "cell_type": "code",
   "execution_count": null,
   "outputs": [],
   "source": [
    "cik = sec_scraper.get_cik_matching_ticker(\"nvda\")\n",
    "\n",
    "accession_numbers = sec_scraper.get_filtered_filings(cik, \"10-Q\")\n",
    "\n",
    "\n",
    "for accession_number in accession_numbers:\n",
    "    print(accession_number)\n",
    "    soup4 = sec_scraper.get_statement_soup(cik, accession_number, \"cash_flow_statement\")\n",
    "    table4 = soup4.find(\"table\")\n",
    "    df4 = pd.read_html(StringIO(str(table4)))[0]\n",
    "    \n",
    "    df4_dict = df4.to_dict()\n",
    "    for key,value in df4_dict.items():\n",
    "        print(key, value, sep=\"\\n\", end=\"\\n\\n\")"
   ],
   "metadata": {
    "collapsed": false
   },
   "id": "ce3873523cade4b6"
  },
  {
   "cell_type": "code",
   "execution_count": null,
   "outputs": [],
   "source": [
    "cik = sec_scraper.get_cik_matching_ticker(\"nvda\")\n",
    "\n",
    "accession_numbers = sec_scraper.get_filtered_filings(cik, \"10-Q\")\n",
    "\n",
    "\n",
    "for accession_number in accession_numbers:\n",
    "    print(accession_number)\n",
    "    soup4 = sec_scraper.get_statement_soup(cik, accession_number, \"income_statement\")\n",
    "    table4 = soup4.find(\"table\")\n",
    "    df4 = pd.read_html(StringIO(str(table4)))[0]\n",
    "    \n",
    "    df4_dict = df4.to_dict()\n",
    "    for key,value in df4_dict.items():\n",
    "        print(key, value, sep=\"\\n\", end=\"\\n\\n\")"
   ],
   "metadata": {
    "collapsed": false
   },
   "id": "71e4d8618f18624f"
  },
  {
   "cell_type": "markdown",
   "source": [
    "## Ticker = tsla"
   ],
   "metadata": {
    "collapsed": false
   },
   "id": "c52fd3673af4b99b"
  },
  {
   "cell_type": "code",
   "execution_count": null,
   "outputs": [],
   "source": [
    "cik = sec_scraper.get_cik_matching_ticker(\"tsla\")\n",
    "\n",
    "accession_numbers = sec_scraper.get_filtered_filings(cik, \"10-Q\")\n",
    "\n",
    "\n",
    "for accession_number in accession_numbers:\n",
    "    print(accession_number)\n",
    "    soup4 = sec_scraper.get_statement_soup(cik, accession_number, \"balance_sheet\")\n",
    "    table4 = soup4.find(\"table\")\n",
    "    df4 = pd.read_html(StringIO(str(table4)))[0]\n",
    "    \n",
    "    df4_dict = df4.to_dict()\n",
    "    for key,value in df4_dict.items():\n",
    "        print(key, value, sep=\"\\n\", end=\"\\n\\n\")"
   ],
   "metadata": {
    "collapsed": false
   },
   "id": "1fedf4eccafdbf78"
  },
  {
   "cell_type": "code",
   "execution_count": null,
   "outputs": [],
   "source": [
    "cik = sec_scraper.get_cik_matching_ticker(\"tsla\")\n",
    "\n",
    "accession_numbers = sec_scraper.get_filtered_filings(cik, \"10-Q\")\n",
    "\n",
    "\n",
    "for accession_number in accession_numbers:\n",
    "    print(accession_number)\n",
    "    soup4 = sec_scraper.get_statement_soup(cik, accession_number, \"cash_flow_statement\")\n",
    "    table4 = soup4.find(\"table\")\n",
    "    df4 = pd.read_html(StringIO(str(table4)))[0]\n",
    "    \n",
    "    df4_dict = df4.to_dict()\n",
    "    for key,value in df4_dict.items():\n",
    "        print(key, value, sep=\"\\n\", end=\"\\n\\n\")"
   ],
   "metadata": {
    "collapsed": false
   },
   "id": "d7e71e14f518723f"
  },
  {
   "cell_type": "code",
   "execution_count": null,
   "outputs": [],
   "source": [
    "cik = sec_scraper.get_cik_matching_ticker(\"tsla\")\n",
    "\n",
    "accession_numbers = sec_scraper.get_filtered_filings(cik, \"10-Q\")\n",
    "\n",
    "\n",
    "for accession_number in accession_numbers:\n",
    "    print(accession_number)\n",
    "    soup4 = sec_scraper.get_statement_soup(cik, accession_number, \"income_statement\")\n",
    "    table4 = soup4.find(\"table\")\n",
    "    df4 = pd.read_html(StringIO(str(table4)))[0]\n",
    "    \n",
    "    df4_dict = df4.to_dict()\n",
    "    for key,value in df4_dict.items():\n",
    "        print(key, value, sep=\"\\n\", end=\"\\n\\n\")"
   ],
   "metadata": {
    "collapsed": false
   },
   "id": "344a900b59ee17ef"
  },
  {
   "cell_type": "code",
   "execution_count": null,
   "outputs": [],
   "source": [],
   "metadata": {
    "collapsed": false
   },
   "id": "fe51277d9842a745"
  }
 ],
 "metadata": {
  "kernelspec": {
   "display_name": "Python 3",
   "language": "python",
   "name": "python3"
  },
  "language_info": {
   "codemirror_mode": {
    "name": "ipython",
    "version": 2
   },
   "file_extension": ".py",
   "mimetype": "text/x-python",
   "name": "python",
   "nbconvert_exporter": "python",
   "pygments_lexer": "ipython2",
   "version": "2.7.6"
  }
 },
 "nbformat": 4,
 "nbformat_minor": 5
}
