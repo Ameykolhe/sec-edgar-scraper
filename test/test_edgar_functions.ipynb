{
 "cells": [
  {
   "cell_type": "code",
   "execution_count": 1,
   "id": "initial_id",
   "metadata": {
    "collapsed": true,
    "ExecuteTime": {
     "end_time": "2024-04-05T02:39:47.548224Z",
     "start_time": "2024-04-05T02:39:47.518856Z"
    }
   },
   "outputs": [
    {
     "ename": "SyntaxError",
     "evalue": "invalid syntax (scraper.py, line 219)",
     "output_type": "error",
     "traceback": [
      "Traceback \u001B[0;36m(most recent call last)\u001B[0m:\n",
      "\u001B[0m  File \u001B[1;32m~/NYU/OnCampus/sec-edgar-scraper/venv/lib/python3.10/site-packages/IPython/core/interactiveshell.py:3577\u001B[0m in \u001B[1;35mrun_code\u001B[0m\n    exec(code_obj, self.user_global_ns, self.user_ns)\u001B[0m\n",
      "\u001B[0m  Cell \u001B[1;32mIn[1], line 1\u001B[0m\n    from sec_edgar_scraper.edgar_functions import SecEdgarScraper\u001B[0m\n",
      "\u001B[0;36m  File \u001B[0;32m~/NYU/OnCampus/sec-edgar-scraper/src/sec_edgar_scraper/__init__.py:1\u001B[0;36m\n\u001B[0;31m    from .scraper import SecEdgarScraper\u001B[0;36m\n",
      "\u001B[0;36m  File \u001B[0;32m~/NYU/OnCampus/sec-edgar-scraper/src/sec_edgar_scraper/scraper.py:219\u001B[0;36m\u001B[0m\n\u001B[0;31m    for date, values in\u001B[0m\n\u001B[0m                       ^\u001B[0m\n\u001B[0;31mSyntaxError\u001B[0m\u001B[0;31m:\u001B[0m invalid syntax\n"
     ]
    }
   ],
   "source": [
    "from sec_edgar_scraper.edgar_functions import SecEdgarScraper "
   ]
  },
  {
   "cell_type": "code",
   "execution_count": null,
   "outputs": [],
   "source": [
    "name = \"Amey\"\n",
    "email = \"kolhe\"\n",
    "\n",
    "scraper = SecEdgarScraper(name, email)"
   ],
   "metadata": {
    "collapsed": false
   },
   "id": "6ad421fbbb99251c"
  },
  {
   "cell_type": "code",
   "execution_count": null,
   "outputs": [],
   "source": [
    "cik = scraper.get_cik_matching_ticker(\"tsla\")\n",
    "accession_number = \"000162828023034847\""
   ],
   "metadata": {
    "collapsed": false
   },
   "id": "7d0250722d058a0b"
  },
  {
   "cell_type": "code",
   "execution_count": null,
   "outputs": [],
   "source": [
    "df = scraper.get_one_statement(cik, accession_number, \"cash_flow_statement\")"
   ],
   "metadata": {
    "collapsed": false
   },
   "id": "3bb1653ab82003f1"
  },
  {
   "cell_type": "code",
   "execution_count": null,
   "outputs": [],
   "source": [],
   "metadata": {
    "collapsed": false
   },
   "id": "49c9129a1174beff"
  },
  {
   "cell_type": "code",
   "execution_count": null,
   "outputs": [],
   "source": [],
   "metadata": {
    "collapsed": false
   },
   "id": "6e185f2d84860d87"
  },
  {
   "cell_type": "code",
   "execution_count": null,
   "outputs": [],
   "source": [],
   "metadata": {
    "collapsed": false
   },
   "id": "bfd51bdd2afd8b9d"
  },
  {
   "cell_type": "code",
   "execution_count": null,
   "outputs": [],
   "source": [],
   "metadata": {
    "collapsed": false
   },
   "id": "8b0aab19627739f3"
  }
 ],
 "metadata": {
  "kernelspec": {
   "display_name": "Python 3",
   "language": "python",
   "name": "python3"
  },
  "language_info": {
   "codemirror_mode": {
    "name": "ipython",
    "version": 2
   },
   "file_extension": ".py",
   "mimetype": "text/x-python",
   "name": "python",
   "nbconvert_exporter": "python",
   "pygments_lexer": "ipython2",
   "version": "2.7.6"
  }
 },
 "nbformat": 4,
 "nbformat_minor": 5
}
