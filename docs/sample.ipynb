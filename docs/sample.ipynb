{
 "cells": [
  {
   "cell_type": "markdown",
   "source": [
    "Initialization"
   ],
   "metadata": {
    "collapsed": false
   },
   "id": "c2cebcfac9c30c73"
  },
  {
   "cell_type": "code",
   "execution_count": 1,
   "outputs": [],
   "source": [
    "from sec_edgar_scraper import SecEdgarScraper\n",
    "\n",
    "name = \"Your Name\"\n",
    "email = \"your.email@example.com\"\n",
    "\n",
    "scraper = SecEdgarScraper(name, email)"
   ],
   "metadata": {
    "collapsed": false,
    "ExecuteTime": {
     "end_time": "2024-04-05T06:03:50.571266Z",
     "start_time": "2024-04-05T06:03:50.050248Z"
    }
   },
   "id": "313bd7e583253a40"
  },
  {
   "cell_type": "markdown",
   "source": [
    "Fetching Company CIK"
   ],
   "metadata": {
    "collapsed": false
   },
   "id": "e64b3ed515f32258"
  },
  {
   "cell_type": "code",
   "execution_count": 2,
   "outputs": [
    {
     "name": "stdout",
     "output_type": "stream",
     "text": [
      "CIK for TSLA: 0001318605\n"
     ]
    }
   ],
   "source": [
    "cik = scraper.get_cik_matching_ticker(\"TSLA\")\n",
    "print(f\"CIK for TSLA: {cik}\")"
   ],
   "metadata": {
    "collapsed": false,
    "ExecuteTime": {
     "end_time": "2024-04-05T06:03:51.339681Z",
     "start_time": "2024-04-05T06:03:50.571963Z"
    }
   },
   "id": "45c631db06124553"
  },
  {
   "cell_type": "markdown",
   "source": [
    "Retrieving Accession Numbers for Filings"
   ],
   "metadata": {
    "collapsed": false
   },
   "id": "e62754f8e4e0f2a4"
  },
  {
   "cell_type": "code",
   "execution_count": 3,
   "outputs": [
    {
     "name": "stdout",
     "output_type": "stream",
     "text": [
      "Accession Numbers for 10-K filings: reportDate\n",
      "2023-12-31    000162828024002390\n",
      "2022-12-31    000095017023001409\n",
      "2021-12-31    000095017022000796\n",
      "2020-12-31    000156459021004599\n",
      "2019-12-31    000156459020004475\n",
      "2018-12-31    000156459019003165\n",
      "2017-12-31    000156459018002956\n",
      "2016-12-31    000156459017003118\n",
      "2015-12-31    000156459016013195\n",
      "Name: accessionNumber, dtype: object\n"
     ]
    }
   ],
   "source": [
    "accession_numbers = scraper.get_filtered_filings(cik, \"10-K\")\n",
    "print(f\"Accession Numbers for 10-K filings: {accession_numbers}\")"
   ],
   "metadata": {
    "collapsed": false,
    "ExecuteTime": {
     "end_time": "2024-04-05T06:03:52.038298Z",
     "start_time": "2024-04-05T06:03:51.338403Z"
    }
   },
   "id": "a78b5d705b33690"
  },
  {
   "cell_type": "markdown",
   "source": [
    "Retrieving Financial Statements"
   ],
   "metadata": {
    "collapsed": false
   },
   "id": "8ed062b9bcf9e977"
  },
  {
   "cell_type": "code",
   "execution_count": 4,
   "outputs": [],
   "source": [
    "cik = scraper.get_cik_matching_ticker(\"TSLA\")\n",
    "accession_number = \"000162828024002390\""
   ],
   "metadata": {
    "collapsed": false,
    "ExecuteTime": {
     "end_time": "2024-04-05T06:03:52.694128Z",
     "start_time": "2024-04-05T06:03:52.037164Z"
    }
   },
   "id": "67b737a6ffacdc8f"
  },
  {
   "cell_type": "code",
   "execution_count": 5,
   "outputs": [
    {
     "name": "stderr",
     "output_type": "stream",
     "text": [
      "INFO:root:Statement Link - https://www.sec.gov/Archives/edgar/data/0001318605/000162828024002390/R3.htm\n"
     ]
    },
    {
     "name": "stdout",
     "output_type": "stream",
     "text": [
      "consolidated balance sheets - usd ($)  $ in millions\n"
     ]
    },
    {
     "data": {
      "text/plain": "                                                   2023-12-31 2022-12-31\nCurrent assets                                           None       None\nCash and cash equivalents                               16398      16253\nShort-term investments                                  12696       5932\nAccounts receivable, net                                 3508       2952\nInventory                                               13626      12839\nPrepaid expenses and other current assets                3388       2941\nTotal current assets                                    49616      40917\nProperty, plant and equipment, net                      29725      23548\nOperating lease right-of-use assets                      4180       2563\nDigital assets, net                                       184        184\nIntangible assets, net                                    178        215\nGoodwill                                                  253        194\nDeferred tax assets                                      6733        328\nOther non-current assets                                 4531       3865\nTotal assets                                           106618      82338\nCurrent liabilities                                      None       None\nAccounts payable                                        14431      15255\nAccrued liabilities and other                            9080       8205\nDeferred revenue                                         2864       1747\nCurrent portion of debt and finance leases               2373       1502\nTotal current liabilities                               28748      26709\nDebt and finance leases, net of current portion          2857       1597\nDeferred revenue, net of current portion                 3251       2804\nOther long-term liabilities                              8153       5330\nTotal liabilities                                       43009      36440\nCommitments and contingencies (Note 15)                  None       None\nRedeemable noncontrolling interests in subsidia...        242        409\nStockholders’ equity                                     None       None\nPreferred stock; $0.001 par value; 100 shares a...          0          0\nCommon stock; $0.001 par value; 6,000 shares au...          3          3\nAdditional paid-in capital                              34892      32177\nAccumulated other comprehensive loss                     -143       -361\nRetained earnings                                       27882      12885\nTotal stockholders’ equity                              62634      44704\nNoncontrolling interests in subsidiaries                  733        785\nTotal liabilities and equity                           106618      82338\nOperating Lease Vehicles                                 None       None\nCurrent assets                                           None       None\nOperating lease vehicles, net                            5989       5035\nSolar energy systems, net                                None       None\nCurrent assets                                           None       None\nSolar energy systems, net                                5229       5489",
      "text/html": "<div>\n<style scoped>\n    .dataframe tbody tr th:only-of-type {\n        vertical-align: middle;\n    }\n\n    .dataframe tbody tr th {\n        vertical-align: top;\n    }\n\n    .dataframe thead th {\n        text-align: right;\n    }\n</style>\n<table border=\"1\" class=\"dataframe\">\n  <thead>\n    <tr style=\"text-align: right;\">\n      <th></th>\n      <th>2023-12-31</th>\n      <th>2022-12-31</th>\n    </tr>\n  </thead>\n  <tbody>\n    <tr>\n      <th>Current assets</th>\n      <td>None</td>\n      <td>None</td>\n    </tr>\n    <tr>\n      <th>Cash and cash equivalents</th>\n      <td>16398</td>\n      <td>16253</td>\n    </tr>\n    <tr>\n      <th>Short-term investments</th>\n      <td>12696</td>\n      <td>5932</td>\n    </tr>\n    <tr>\n      <th>Accounts receivable, net</th>\n      <td>3508</td>\n      <td>2952</td>\n    </tr>\n    <tr>\n      <th>Inventory</th>\n      <td>13626</td>\n      <td>12839</td>\n    </tr>\n    <tr>\n      <th>Prepaid expenses and other current assets</th>\n      <td>3388</td>\n      <td>2941</td>\n    </tr>\n    <tr>\n      <th>Total current assets</th>\n      <td>49616</td>\n      <td>40917</td>\n    </tr>\n    <tr>\n      <th>Property, plant and equipment, net</th>\n      <td>29725</td>\n      <td>23548</td>\n    </tr>\n    <tr>\n      <th>Operating lease right-of-use assets</th>\n      <td>4180</td>\n      <td>2563</td>\n    </tr>\n    <tr>\n      <th>Digital assets, net</th>\n      <td>184</td>\n      <td>184</td>\n    </tr>\n    <tr>\n      <th>Intangible assets, net</th>\n      <td>178</td>\n      <td>215</td>\n    </tr>\n    <tr>\n      <th>Goodwill</th>\n      <td>253</td>\n      <td>194</td>\n    </tr>\n    <tr>\n      <th>Deferred tax assets</th>\n      <td>6733</td>\n      <td>328</td>\n    </tr>\n    <tr>\n      <th>Other non-current assets</th>\n      <td>4531</td>\n      <td>3865</td>\n    </tr>\n    <tr>\n      <th>Total assets</th>\n      <td>106618</td>\n      <td>82338</td>\n    </tr>\n    <tr>\n      <th>Current liabilities</th>\n      <td>None</td>\n      <td>None</td>\n    </tr>\n    <tr>\n      <th>Accounts payable</th>\n      <td>14431</td>\n      <td>15255</td>\n    </tr>\n    <tr>\n      <th>Accrued liabilities and other</th>\n      <td>9080</td>\n      <td>8205</td>\n    </tr>\n    <tr>\n      <th>Deferred revenue</th>\n      <td>2864</td>\n      <td>1747</td>\n    </tr>\n    <tr>\n      <th>Current portion of debt and finance leases</th>\n      <td>2373</td>\n      <td>1502</td>\n    </tr>\n    <tr>\n      <th>Total current liabilities</th>\n      <td>28748</td>\n      <td>26709</td>\n    </tr>\n    <tr>\n      <th>Debt and finance leases, net of current portion</th>\n      <td>2857</td>\n      <td>1597</td>\n    </tr>\n    <tr>\n      <th>Deferred revenue, net of current portion</th>\n      <td>3251</td>\n      <td>2804</td>\n    </tr>\n    <tr>\n      <th>Other long-term liabilities</th>\n      <td>8153</td>\n      <td>5330</td>\n    </tr>\n    <tr>\n      <th>Total liabilities</th>\n      <td>43009</td>\n      <td>36440</td>\n    </tr>\n    <tr>\n      <th>Commitments and contingencies (Note 15)</th>\n      <td>None</td>\n      <td>None</td>\n    </tr>\n    <tr>\n      <th>Redeemable noncontrolling interests in subsidiaries</th>\n      <td>242</td>\n      <td>409</td>\n    </tr>\n    <tr>\n      <th>Stockholders’ equity</th>\n      <td>None</td>\n      <td>None</td>\n    </tr>\n    <tr>\n      <th>Preferred stock; $0.001 par value; 100 shares authorized; no shares issued and outstanding</th>\n      <td>0</td>\n      <td>0</td>\n    </tr>\n    <tr>\n      <th>Common stock; $0.001 par value; 6,000 shares authorized; 3,185 and 3,164 shares issued and outstanding as of December 31, 2023 and 2022, respectively</th>\n      <td>3</td>\n      <td>3</td>\n    </tr>\n    <tr>\n      <th>Additional paid-in capital</th>\n      <td>34892</td>\n      <td>32177</td>\n    </tr>\n    <tr>\n      <th>Accumulated other comprehensive loss</th>\n      <td>-143</td>\n      <td>-361</td>\n    </tr>\n    <tr>\n      <th>Retained earnings</th>\n      <td>27882</td>\n      <td>12885</td>\n    </tr>\n    <tr>\n      <th>Total stockholders’ equity</th>\n      <td>62634</td>\n      <td>44704</td>\n    </tr>\n    <tr>\n      <th>Noncontrolling interests in subsidiaries</th>\n      <td>733</td>\n      <td>785</td>\n    </tr>\n    <tr>\n      <th>Total liabilities and equity</th>\n      <td>106618</td>\n      <td>82338</td>\n    </tr>\n    <tr>\n      <th>Operating Lease Vehicles</th>\n      <td>None</td>\n      <td>None</td>\n    </tr>\n    <tr>\n      <th>Current assets</th>\n      <td>None</td>\n      <td>None</td>\n    </tr>\n    <tr>\n      <th>Operating lease vehicles, net</th>\n      <td>5989</td>\n      <td>5035</td>\n    </tr>\n    <tr>\n      <th>Solar energy systems, net</th>\n      <td>None</td>\n      <td>None</td>\n    </tr>\n    <tr>\n      <th>Current assets</th>\n      <td>None</td>\n      <td>None</td>\n    </tr>\n    <tr>\n      <th>Solar energy systems, net</th>\n      <td>5229</td>\n      <td>5489</td>\n    </tr>\n  </tbody>\n</table>\n</div>"
     },
     "execution_count": 5,
     "metadata": {},
     "output_type": "execute_result"
    }
   ],
   "source": [
    "# Balance Sheet\n",
    "df, note = scraper.get_one_statement(cik, accession_number, \"balance_sheet\")\n",
    "print(note)\n",
    "df"
   ],
   "metadata": {
    "collapsed": false,
    "ExecuteTime": {
     "end_time": "2024-04-05T06:03:53.081579Z",
     "start_time": "2024-04-05T06:03:52.694905Z"
    }
   },
   "id": "31732477a56e6415"
  },
  {
   "cell_type": "code",
   "execution_count": 6,
   "outputs": [
    {
     "name": "stderr",
     "output_type": "stream",
     "text": [
      "INFO:root:Statement Link - https://www.sec.gov/Archives/edgar/data/0001318605/000162828024002390/R8.htm\n"
     ]
    },
    {
     "name": "stdout",
     "output_type": "stream",
     "text": [
      "consolidated statements of cash flows - usd ($)  $ in millions\n"
     ]
    },
    {
     "data": {
      "text/plain": "                                                   2023-12-31 2022-12-31  \\\nCash Flows from Operating Activities                     None       None   \nNet income                                              14974      12587   \nAdjustments to reconcile net income to net cash...       None       None   \nDepreciation, amortization and impairment                4667       3747   \nStock-based compensation                                 1812       1560   \nInventory and purchase commitments write-downs            463        177   \nForeign currency transaction net unrealized (ga...       -144         81   \nDeferred income taxes                                   -6349       -196   \nNon-cash interest and other operating activities           81        340   \nDigital assets loss (gain), net                             0        140   \nChanges in operating assets and liabilities:             None       None   \nAccounts receivable                                      -586      -1124   \nInventory                                               -1195      -6465   \nOperating lease vehicles                                -1952      -1570   \nPrepaid expenses and other assets                       -2652      -3713   \nAccounts payable, accrued and other liabilities          2605       8029   \nDeferred revenue                                         1532       1131   \nNet cash provided by operating activities               13256      14724   \nCash Flows from Investing Activities                     None       None   \nPurchases of property and equipment excluding f...      -8898      -7158   \nPurchases of solar energy systems, net of sales            -1         -5   \nPurchases of digital assets                                 0          0   \nProceeds from sales of digital assets                       0        936   \nPurchase of intangible assets                               0         -9   \nPurchases of investments                               -19112      -5835   \nProceeds from maturities of investments                 12353         22   \nProceeds from sales of investments                        138          0   \nReceipt of government grants                                0         76   \nBusiness combinations, net of cash acquired               -64          0   \nNet cash used in investing activities                  -15584     -11973   \nCash Flows from Financing Activities                     None       None   \nProceeds from issuances of debt                          3931          0   \nRepayments of debt                                      -1351      -3364   \nCollateralized lease repayments                             0          0   \nProceeds from exercises of stock options and ot...        700        541   \nPrincipal payments on finance leases                     -464       -502   \nDebt issuance costs                                       -29          0   \nProceeds from investments by noncontrolling int...          0          0   \nDistributions paid to noncontrolling interests ...       -144       -157   \nPayments for buy-outs of noncontrolling interes...        -54        -45   \nNet cash provided by (used in) financing activi...       2589      -3527   \nEffect of exchange rate changes on cash and cas...          4       -444   \nNet increase (decrease) in cash and cash equiva...        265      -1220   \nCash and cash equivalents and restricted cash, ...      16924      18144   \nCash and cash equivalents and restricted cash, ...      17189      16924   \nSupplemental Non-Cash Investing and Financing A...       None       None   \nAcquisitions of property and equipment included...       2272       2148   \nSupplemental Disclosures                                 None       None   \nCash paid during the period for interest, net o...        126        152   \nCash paid during the period for income taxes, n...       1119       1203   \n\n                                                   2021-12-31  \nCash Flows from Operating Activities                     None  \nNet income                                               5644  \nAdjustments to reconcile net income to net cash...       None  \nDepreciation, amortization and impairment                2911  \nStock-based compensation                                 2121  \nInventory and purchase commitments write-downs            140  \nForeign currency transaction net unrealized (ga...        -55  \nDeferred income taxes                                    -149  \nNon-cash interest and other operating activities          245  \nDigital assets loss (gain), net                           -27  \nChanges in operating assets and liabilities:             None  \nAccounts receivable                                      -130  \nInventory                                               -1709  \nOperating lease vehicles                                -2114  \nPrepaid expenses and other assets                       -1540  \nAccounts payable, accrued and other liabilities          5367  \nDeferred revenue                                          793  \nNet cash provided by operating activities               11497  \nCash Flows from Investing Activities                     None  \nPurchases of property and equipment excluding f...      -6482  \nPurchases of solar energy systems, net of sales           -32  \nPurchases of digital assets                             -1500  \nProceeds from sales of digital assets                     272  \nPurchase of intangible assets                               0  \nPurchases of investments                                 -132  \nProceeds from maturities of investments                     0  \nProceeds from sales of investments                          0  \nReceipt of government grants                                6  \nBusiness combinations, net of cash acquired                 0  \nNet cash used in investing activities                   -7868  \nCash Flows from Financing Activities                     None  \nProceeds from issuances of debt                          8883  \nRepayments of debt                                     -14167  \nCollateralized lease repayments                            -9  \nProceeds from exercises of stock options and ot...        707  \nPrincipal payments on finance leases                     -439  \nDebt issuance costs                                        -9  \nProceeds from investments by noncontrolling int...          2  \nDistributions paid to noncontrolling interests ...       -161  \nPayments for buy-outs of noncontrolling interes...        -10  \nNet cash provided by (used in) financing activi...      -5203  \nEffect of exchange rate changes on cash and cas...       -183  \nNet increase (decrease) in cash and cash equiva...      -1757  \nCash and cash equivalents and restricted cash, ...      19901  \nCash and cash equivalents and restricted cash, ...      18144  \nSupplemental Non-Cash Investing and Financing A...       None  \nAcquisitions of property and equipment included...       2251  \nSupplemental Disclosures                                 None  \nCash paid during the period for interest, net o...        266  \nCash paid during the period for income taxes, n...        561  ",
      "text/html": "<div>\n<style scoped>\n    .dataframe tbody tr th:only-of-type {\n        vertical-align: middle;\n    }\n\n    .dataframe tbody tr th {\n        vertical-align: top;\n    }\n\n    .dataframe thead th {\n        text-align: right;\n    }\n</style>\n<table border=\"1\" class=\"dataframe\">\n  <thead>\n    <tr style=\"text-align: right;\">\n      <th></th>\n      <th>2023-12-31</th>\n      <th>2022-12-31</th>\n      <th>2021-12-31</th>\n    </tr>\n  </thead>\n  <tbody>\n    <tr>\n      <th>Cash Flows from Operating Activities</th>\n      <td>None</td>\n      <td>None</td>\n      <td>None</td>\n    </tr>\n    <tr>\n      <th>Net income</th>\n      <td>14974</td>\n      <td>12587</td>\n      <td>5644</td>\n    </tr>\n    <tr>\n      <th>Adjustments to reconcile net income to net cash provided by operating activities:</th>\n      <td>None</td>\n      <td>None</td>\n      <td>None</td>\n    </tr>\n    <tr>\n      <th>Depreciation, amortization and impairment</th>\n      <td>4667</td>\n      <td>3747</td>\n      <td>2911</td>\n    </tr>\n    <tr>\n      <th>Stock-based compensation</th>\n      <td>1812</td>\n      <td>1560</td>\n      <td>2121</td>\n    </tr>\n    <tr>\n      <th>Inventory and purchase commitments write-downs</th>\n      <td>463</td>\n      <td>177</td>\n      <td>140</td>\n    </tr>\n    <tr>\n      <th>Foreign currency transaction net unrealized (gain) loss</th>\n      <td>-144</td>\n      <td>81</td>\n      <td>-55</td>\n    </tr>\n    <tr>\n      <th>Deferred income taxes</th>\n      <td>-6349</td>\n      <td>-196</td>\n      <td>-149</td>\n    </tr>\n    <tr>\n      <th>Non-cash interest and other operating activities</th>\n      <td>81</td>\n      <td>340</td>\n      <td>245</td>\n    </tr>\n    <tr>\n      <th>Digital assets loss (gain), net</th>\n      <td>0</td>\n      <td>140</td>\n      <td>-27</td>\n    </tr>\n    <tr>\n      <th>Changes in operating assets and liabilities:</th>\n      <td>None</td>\n      <td>None</td>\n      <td>None</td>\n    </tr>\n    <tr>\n      <th>Accounts receivable</th>\n      <td>-586</td>\n      <td>-1124</td>\n      <td>-130</td>\n    </tr>\n    <tr>\n      <th>Inventory</th>\n      <td>-1195</td>\n      <td>-6465</td>\n      <td>-1709</td>\n    </tr>\n    <tr>\n      <th>Operating lease vehicles</th>\n      <td>-1952</td>\n      <td>-1570</td>\n      <td>-2114</td>\n    </tr>\n    <tr>\n      <th>Prepaid expenses and other assets</th>\n      <td>-2652</td>\n      <td>-3713</td>\n      <td>-1540</td>\n    </tr>\n    <tr>\n      <th>Accounts payable, accrued and other liabilities</th>\n      <td>2605</td>\n      <td>8029</td>\n      <td>5367</td>\n    </tr>\n    <tr>\n      <th>Deferred revenue</th>\n      <td>1532</td>\n      <td>1131</td>\n      <td>793</td>\n    </tr>\n    <tr>\n      <th>Net cash provided by operating activities</th>\n      <td>13256</td>\n      <td>14724</td>\n      <td>11497</td>\n    </tr>\n    <tr>\n      <th>Cash Flows from Investing Activities</th>\n      <td>None</td>\n      <td>None</td>\n      <td>None</td>\n    </tr>\n    <tr>\n      <th>Purchases of property and equipment excluding finance leases, net of sales</th>\n      <td>-8898</td>\n      <td>-7158</td>\n      <td>-6482</td>\n    </tr>\n    <tr>\n      <th>Purchases of solar energy systems, net of sales</th>\n      <td>-1</td>\n      <td>-5</td>\n      <td>-32</td>\n    </tr>\n    <tr>\n      <th>Purchases of digital assets</th>\n      <td>0</td>\n      <td>0</td>\n      <td>-1500</td>\n    </tr>\n    <tr>\n      <th>Proceeds from sales of digital assets</th>\n      <td>0</td>\n      <td>936</td>\n      <td>272</td>\n    </tr>\n    <tr>\n      <th>Purchase of intangible assets</th>\n      <td>0</td>\n      <td>-9</td>\n      <td>0</td>\n    </tr>\n    <tr>\n      <th>Purchases of investments</th>\n      <td>-19112</td>\n      <td>-5835</td>\n      <td>-132</td>\n    </tr>\n    <tr>\n      <th>Proceeds from maturities of investments</th>\n      <td>12353</td>\n      <td>22</td>\n      <td>0</td>\n    </tr>\n    <tr>\n      <th>Proceeds from sales of investments</th>\n      <td>138</td>\n      <td>0</td>\n      <td>0</td>\n    </tr>\n    <tr>\n      <th>Receipt of government grants</th>\n      <td>0</td>\n      <td>76</td>\n      <td>6</td>\n    </tr>\n    <tr>\n      <th>Business combinations, net of cash acquired</th>\n      <td>-64</td>\n      <td>0</td>\n      <td>0</td>\n    </tr>\n    <tr>\n      <th>Net cash used in investing activities</th>\n      <td>-15584</td>\n      <td>-11973</td>\n      <td>-7868</td>\n    </tr>\n    <tr>\n      <th>Cash Flows from Financing Activities</th>\n      <td>None</td>\n      <td>None</td>\n      <td>None</td>\n    </tr>\n    <tr>\n      <th>Proceeds from issuances of debt</th>\n      <td>3931</td>\n      <td>0</td>\n      <td>8883</td>\n    </tr>\n    <tr>\n      <th>Repayments of debt</th>\n      <td>-1351</td>\n      <td>-3364</td>\n      <td>-14167</td>\n    </tr>\n    <tr>\n      <th>Collateralized lease repayments</th>\n      <td>0</td>\n      <td>0</td>\n      <td>-9</td>\n    </tr>\n    <tr>\n      <th>Proceeds from exercises of stock options and other stock issuances</th>\n      <td>700</td>\n      <td>541</td>\n      <td>707</td>\n    </tr>\n    <tr>\n      <th>Principal payments on finance leases</th>\n      <td>-464</td>\n      <td>-502</td>\n      <td>-439</td>\n    </tr>\n    <tr>\n      <th>Debt issuance costs</th>\n      <td>-29</td>\n      <td>0</td>\n      <td>-9</td>\n    </tr>\n    <tr>\n      <th>Proceeds from investments by noncontrolling interests in subsidiaries</th>\n      <td>0</td>\n      <td>0</td>\n      <td>2</td>\n    </tr>\n    <tr>\n      <th>Distributions paid to noncontrolling interests in subsidiaries</th>\n      <td>-144</td>\n      <td>-157</td>\n      <td>-161</td>\n    </tr>\n    <tr>\n      <th>Payments for buy-outs of noncontrolling interests in subsidiaries</th>\n      <td>-54</td>\n      <td>-45</td>\n      <td>-10</td>\n    </tr>\n    <tr>\n      <th>Net cash provided by (used in) financing activities</th>\n      <td>2589</td>\n      <td>-3527</td>\n      <td>-5203</td>\n    </tr>\n    <tr>\n      <th>Effect of exchange rate changes on cash and cash equivalents and restricted cash</th>\n      <td>4</td>\n      <td>-444</td>\n      <td>-183</td>\n    </tr>\n    <tr>\n      <th>Net increase (decrease) in cash and cash equivalents and restricted cash</th>\n      <td>265</td>\n      <td>-1220</td>\n      <td>-1757</td>\n    </tr>\n    <tr>\n      <th>Cash and cash equivalents and restricted cash, beginning of period</th>\n      <td>16924</td>\n      <td>18144</td>\n      <td>19901</td>\n    </tr>\n    <tr>\n      <th>Cash and cash equivalents and restricted cash, end of period</th>\n      <td>17189</td>\n      <td>16924</td>\n      <td>18144</td>\n    </tr>\n    <tr>\n      <th>Supplemental Non-Cash Investing and Financing Activities</th>\n      <td>None</td>\n      <td>None</td>\n      <td>None</td>\n    </tr>\n    <tr>\n      <th>Acquisitions of property and equipment included in liabilities</th>\n      <td>2272</td>\n      <td>2148</td>\n      <td>2251</td>\n    </tr>\n    <tr>\n      <th>Supplemental Disclosures</th>\n      <td>None</td>\n      <td>None</td>\n      <td>None</td>\n    </tr>\n    <tr>\n      <th>Cash paid during the period for interest, net of amounts capitalized</th>\n      <td>126</td>\n      <td>152</td>\n      <td>266</td>\n    </tr>\n    <tr>\n      <th>Cash paid during the period for income taxes, net of refunds</th>\n      <td>1119</td>\n      <td>1203</td>\n      <td>561</td>\n    </tr>\n  </tbody>\n</table>\n</div>"
     },
     "execution_count": 6,
     "metadata": {},
     "output_type": "execute_result"
    }
   ],
   "source": [
    "# Cash flow Statement\n",
    "df, note = scraper.get_one_statement(cik, accession_number, \"cash_flow_statement\")\n",
    "print(note)\n",
    "df"
   ],
   "metadata": {
    "collapsed": false,
    "ExecuteTime": {
     "end_time": "2024-04-05T06:03:53.424392Z",
     "start_time": "2024-04-05T06:03:53.080951Z"
    }
   },
   "id": "599c83aa066d98dc"
  },
  {
   "cell_type": "code",
   "execution_count": 7,
   "outputs": [
    {
     "name": "stderr",
     "output_type": "stream",
     "text": [
      "INFO:root:Statement Link - https://www.sec.gov/Archives/edgar/data/0001318605/000162828024002390/R5.htm\n"
     ]
    },
    {
     "name": "stdout",
     "output_type": "stream",
     "text": [
      "consolidated statements of operations - usd ($)  shares in millions, $ in millions\n"
     ]
    },
    {
     "data": {
      "text/plain": "                                                   2023-12-31 2022-12-31  \\\nRevenues                                                 None       None   \nRevenues                                                96773      81462   \nCost of revenues                                         None       None   \nTotal cost of revenues                                  79113      60609   \nGross profit                                            17660      20853   \nOperating expenses                                       None       None   \nResearch and development                                 3969       3075   \nSelling, general and administrative                      4800       3946   \nRestructuring and other                                     0        176   \nTotal operating expenses                                 8769       7197   \nIncome from operations                                   8891      13656   \nInterest income                                          1066        297   \nInterest expense                                         -156       -191   \nOther income (expense), net                               172        -43   \nIncome before income taxes                               9973      13719   \n(Benefit from) provision for income taxes               -5001       1132   \nNet income                                              14974      12587   \nNet (loss) income attributable to noncontrollin...        -23         31   \nNet income attributable to common stockholders          14997      12556   \nNet income per share of common stock attributab...       None       None   \nBasic (in dollars per share)                             None       None   \nDiluted (in dollars per share)                           None       None   \nWeighted average shares used in computing net i...       None       None   \nBasic (in shares)                                        3174       3130   \nDiluted (in shares)                                      3485       3475   \nAutomotive Revenues                                      None       None   \nRevenues                                                 None       None   \nRevenues                                                82419      71462   \nCost of revenues                                         None       None   \nTotal cost of revenues                                  66389      51108   \nAutomotive sales                                         None       None   \nRevenues                                                 None       None   \nRevenues                                                78509      67210   \nCost of revenues                                         None       None   \nTotal cost of revenues                                  65121      49599   \nAutomotive regulatory credits                            None       None   \nRevenues                                                 None       None   \nRevenues                                                 1790       1776   \nAutomotive leasing                                       None       None   \nRevenues                                                 None       None   \nRevenues                                                 2120       2476   \nCost of revenues                                         None       None   \nTotal cost of revenues                                   1268       1509   \nEnergy generation and storage                            None       None   \nRevenues                                                 None       None   \nRevenues                                                 6035       3909   \nCost of revenues                                         None       None   \nTotal cost of revenues                                   4894       3621   \nServices and other                                       None       None   \nRevenues                                                 None       None   \nRevenues                                                 8319       6091   \nCost of revenues                                         None       None   \nTotal cost of revenues                                   7830       5880   \n\n                                                   2021-12-31  \nRevenues                                                 None  \nRevenues                                                53823  \nCost of revenues                                         None  \nTotal cost of revenues                                  40217  \nGross profit                                            13606  \nOperating expenses                                       None  \nResearch and development                                 2593  \nSelling, general and administrative                      4517  \nRestructuring and other                                   -27  \nTotal operating expenses                                 7083  \nIncome from operations                                   6523  \nInterest income                                            56  \nInterest expense                                         -371  \nOther income (expense), net                               135  \nIncome before income taxes                               6343  \n(Benefit from) provision for income taxes                 699  \nNet income                                               5644  \nNet (loss) income attributable to noncontrollin...        125  \nNet income attributable to common stockholders           5519  \nNet income per share of common stock attributab...       None  \nBasic (in dollars per share)                             None  \nDiluted (in dollars per share)                           None  \nWeighted average shares used in computing net i...       None  \nBasic (in shares)                                        2959  \nDiluted (in shares)                                      3386  \nAutomotive Revenues                                      None  \nRevenues                                                 None  \nRevenues                                                47232  \nCost of revenues                                         None  \nTotal cost of revenues                                  33393  \nAutomotive sales                                         None  \nRevenues                                                 None  \nRevenues                                                44125  \nCost of revenues                                         None  \nTotal cost of revenues                                  32415  \nAutomotive regulatory credits                            None  \nRevenues                                                 None  \nRevenues                                                 1465  \nAutomotive leasing                                       None  \nRevenues                                                 None  \nRevenues                                                 1642  \nCost of revenues                                         None  \nTotal cost of revenues                                    978  \nEnergy generation and storage                            None  \nRevenues                                                 None  \nRevenues                                                 2789  \nCost of revenues                                         None  \nTotal cost of revenues                                   2918  \nServices and other                                       None  \nRevenues                                                 None  \nRevenues                                                 3802  \nCost of revenues                                         None  \nTotal cost of revenues                                   3906  ",
      "text/html": "<div>\n<style scoped>\n    .dataframe tbody tr th:only-of-type {\n        vertical-align: middle;\n    }\n\n    .dataframe tbody tr th {\n        vertical-align: top;\n    }\n\n    .dataframe thead th {\n        text-align: right;\n    }\n</style>\n<table border=\"1\" class=\"dataframe\">\n  <thead>\n    <tr style=\"text-align: right;\">\n      <th></th>\n      <th>2023-12-31</th>\n      <th>2022-12-31</th>\n      <th>2021-12-31</th>\n    </tr>\n  </thead>\n  <tbody>\n    <tr>\n      <th>Revenues</th>\n      <td>None</td>\n      <td>None</td>\n      <td>None</td>\n    </tr>\n    <tr>\n      <th>Revenues</th>\n      <td>96773</td>\n      <td>81462</td>\n      <td>53823</td>\n    </tr>\n    <tr>\n      <th>Cost of revenues</th>\n      <td>None</td>\n      <td>None</td>\n      <td>None</td>\n    </tr>\n    <tr>\n      <th>Total cost of revenues</th>\n      <td>79113</td>\n      <td>60609</td>\n      <td>40217</td>\n    </tr>\n    <tr>\n      <th>Gross profit</th>\n      <td>17660</td>\n      <td>20853</td>\n      <td>13606</td>\n    </tr>\n    <tr>\n      <th>Operating expenses</th>\n      <td>None</td>\n      <td>None</td>\n      <td>None</td>\n    </tr>\n    <tr>\n      <th>Research and development</th>\n      <td>3969</td>\n      <td>3075</td>\n      <td>2593</td>\n    </tr>\n    <tr>\n      <th>Selling, general and administrative</th>\n      <td>4800</td>\n      <td>3946</td>\n      <td>4517</td>\n    </tr>\n    <tr>\n      <th>Restructuring and other</th>\n      <td>0</td>\n      <td>176</td>\n      <td>-27</td>\n    </tr>\n    <tr>\n      <th>Total operating expenses</th>\n      <td>8769</td>\n      <td>7197</td>\n      <td>7083</td>\n    </tr>\n    <tr>\n      <th>Income from operations</th>\n      <td>8891</td>\n      <td>13656</td>\n      <td>6523</td>\n    </tr>\n    <tr>\n      <th>Interest income</th>\n      <td>1066</td>\n      <td>297</td>\n      <td>56</td>\n    </tr>\n    <tr>\n      <th>Interest expense</th>\n      <td>-156</td>\n      <td>-191</td>\n      <td>-371</td>\n    </tr>\n    <tr>\n      <th>Other income (expense), net</th>\n      <td>172</td>\n      <td>-43</td>\n      <td>135</td>\n    </tr>\n    <tr>\n      <th>Income before income taxes</th>\n      <td>9973</td>\n      <td>13719</td>\n      <td>6343</td>\n    </tr>\n    <tr>\n      <th>(Benefit from) provision for income taxes</th>\n      <td>-5001</td>\n      <td>1132</td>\n      <td>699</td>\n    </tr>\n    <tr>\n      <th>Net income</th>\n      <td>14974</td>\n      <td>12587</td>\n      <td>5644</td>\n    </tr>\n    <tr>\n      <th>Net (loss) income attributable to noncontrolling interests and redeemable noncontrolling interests in subsidiaries</th>\n      <td>-23</td>\n      <td>31</td>\n      <td>125</td>\n    </tr>\n    <tr>\n      <th>Net income attributable to common stockholders</th>\n      <td>14997</td>\n      <td>12556</td>\n      <td>5519</td>\n    </tr>\n    <tr>\n      <th>Net income per share of common stock attributable to common stockholders</th>\n      <td>None</td>\n      <td>None</td>\n      <td>None</td>\n    </tr>\n    <tr>\n      <th>Basic (in dollars per share)</th>\n      <td>None</td>\n      <td>None</td>\n      <td>None</td>\n    </tr>\n    <tr>\n      <th>Diluted (in dollars per share)</th>\n      <td>None</td>\n      <td>None</td>\n      <td>None</td>\n    </tr>\n    <tr>\n      <th>Weighted average shares used in computing net income per share of common stock</th>\n      <td>None</td>\n      <td>None</td>\n      <td>None</td>\n    </tr>\n    <tr>\n      <th>Basic (in shares)</th>\n      <td>3174</td>\n      <td>3130</td>\n      <td>2959</td>\n    </tr>\n    <tr>\n      <th>Diluted (in shares)</th>\n      <td>3485</td>\n      <td>3475</td>\n      <td>3386</td>\n    </tr>\n    <tr>\n      <th>Automotive Revenues</th>\n      <td>None</td>\n      <td>None</td>\n      <td>None</td>\n    </tr>\n    <tr>\n      <th>Revenues</th>\n      <td>None</td>\n      <td>None</td>\n      <td>None</td>\n    </tr>\n    <tr>\n      <th>Revenues</th>\n      <td>82419</td>\n      <td>71462</td>\n      <td>47232</td>\n    </tr>\n    <tr>\n      <th>Cost of revenues</th>\n      <td>None</td>\n      <td>None</td>\n      <td>None</td>\n    </tr>\n    <tr>\n      <th>Total cost of revenues</th>\n      <td>66389</td>\n      <td>51108</td>\n      <td>33393</td>\n    </tr>\n    <tr>\n      <th>Automotive sales</th>\n      <td>None</td>\n      <td>None</td>\n      <td>None</td>\n    </tr>\n    <tr>\n      <th>Revenues</th>\n      <td>None</td>\n      <td>None</td>\n      <td>None</td>\n    </tr>\n    <tr>\n      <th>Revenues</th>\n      <td>78509</td>\n      <td>67210</td>\n      <td>44125</td>\n    </tr>\n    <tr>\n      <th>Cost of revenues</th>\n      <td>None</td>\n      <td>None</td>\n      <td>None</td>\n    </tr>\n    <tr>\n      <th>Total cost of revenues</th>\n      <td>65121</td>\n      <td>49599</td>\n      <td>32415</td>\n    </tr>\n    <tr>\n      <th>Automotive regulatory credits</th>\n      <td>None</td>\n      <td>None</td>\n      <td>None</td>\n    </tr>\n    <tr>\n      <th>Revenues</th>\n      <td>None</td>\n      <td>None</td>\n      <td>None</td>\n    </tr>\n    <tr>\n      <th>Revenues</th>\n      <td>1790</td>\n      <td>1776</td>\n      <td>1465</td>\n    </tr>\n    <tr>\n      <th>Automotive leasing</th>\n      <td>None</td>\n      <td>None</td>\n      <td>None</td>\n    </tr>\n    <tr>\n      <th>Revenues</th>\n      <td>None</td>\n      <td>None</td>\n      <td>None</td>\n    </tr>\n    <tr>\n      <th>Revenues</th>\n      <td>2120</td>\n      <td>2476</td>\n      <td>1642</td>\n    </tr>\n    <tr>\n      <th>Cost of revenues</th>\n      <td>None</td>\n      <td>None</td>\n      <td>None</td>\n    </tr>\n    <tr>\n      <th>Total cost of revenues</th>\n      <td>1268</td>\n      <td>1509</td>\n      <td>978</td>\n    </tr>\n    <tr>\n      <th>Energy generation and storage</th>\n      <td>None</td>\n      <td>None</td>\n      <td>None</td>\n    </tr>\n    <tr>\n      <th>Revenues</th>\n      <td>None</td>\n      <td>None</td>\n      <td>None</td>\n    </tr>\n    <tr>\n      <th>Revenues</th>\n      <td>6035</td>\n      <td>3909</td>\n      <td>2789</td>\n    </tr>\n    <tr>\n      <th>Cost of revenues</th>\n      <td>None</td>\n      <td>None</td>\n      <td>None</td>\n    </tr>\n    <tr>\n      <th>Total cost of revenues</th>\n      <td>4894</td>\n      <td>3621</td>\n      <td>2918</td>\n    </tr>\n    <tr>\n      <th>Services and other</th>\n      <td>None</td>\n      <td>None</td>\n      <td>None</td>\n    </tr>\n    <tr>\n      <th>Revenues</th>\n      <td>None</td>\n      <td>None</td>\n      <td>None</td>\n    </tr>\n    <tr>\n      <th>Revenues</th>\n      <td>8319</td>\n      <td>6091</td>\n      <td>3802</td>\n    </tr>\n    <tr>\n      <th>Cost of revenues</th>\n      <td>None</td>\n      <td>None</td>\n      <td>None</td>\n    </tr>\n    <tr>\n      <th>Total cost of revenues</th>\n      <td>7830</td>\n      <td>5880</td>\n      <td>3906</td>\n    </tr>\n  </tbody>\n</table>\n</div>"
     },
     "execution_count": 7,
     "metadata": {},
     "output_type": "execute_result"
    }
   ],
   "source": [
    "# Income Statement\n",
    "df, note = scraper.get_one_statement(cik, accession_number, \"income_statement\")\n",
    "print(note)\n",
    "df"
   ],
   "metadata": {
    "collapsed": false,
    "ExecuteTime": {
     "end_time": "2024-04-05T06:03:53.794003Z",
     "start_time": "2024-04-05T06:03:53.424317Z"
    }
   },
   "id": "3b2383d7fb0fbbf4"
  }
 ],
 "metadata": {
  "kernelspec": {
   "display_name": "Python 3",
   "language": "python",
   "name": "python3"
  },
  "language_info": {
   "codemirror_mode": {
    "name": "ipython",
    "version": 2
   },
   "file_extension": ".py",
   "mimetype": "text/x-python",
   "name": "python",
   "nbconvert_exporter": "python",
   "pygments_lexer": "ipython2",
   "version": "2.7.6"
  }
 },
 "nbformat": 4,
 "nbformat_minor": 5
}
